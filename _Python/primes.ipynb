{
 "cells": [
  {
   "cell_type": "markdown",
   "id": "08ba69f1",
   "metadata": {},
   "source": [
    "# Poniższy kod znajduje liczby pierwsze do określonej liczby n:"
   ]
  },
  {
   "cell_type": "markdown",
   "id": "3277115b",
   "metadata": {},
   "source": [
    "## funkcja (algorytm)"
   ]
  },
  {
   "cell_type": "code",
   "execution_count": 1,
   "id": "89a7fc8e",
   "metadata": {},
   "outputs": [],
   "source": [
    "def znajdz_liczby_pierwsze(n):\n",
    "    liczby_pierwsze = []\n",
    "    for liczba in range(2, n + 1):\n",
    "        for dzielnik in range(2, liczba):\n",
    "            if liczba % dzielnik == 0:\n",
    "                break\n",
    "        else:\n",
    "            liczby_pierwsze.append(liczba)\n",
    "    return liczby_pierwsze"
   ]
  },
  {
   "cell_type": "markdown",
   "id": "34b54b3d",
   "metadata": {},
   "source": [
    "## wejście"
   ]
  },
  {
   "cell_type": "code",
   "execution_count": 2,
   "id": "c784a73f",
   "metadata": {},
   "outputs": [],
   "source": [
    "n = int(input(\"Podaj liczbę: \"))"
   ]
  },
  {
   "cell_type": "markdown",
   "id": "28eda2ea",
   "metadata": {},
   "source": [
    "## wyjście"
   ]
  },
  {
   "cell_type": "code",
   "execution_count": 3,
   "id": "872abe36",
   "metadata": {},
   "outputs": [
    {
     "name": "stdout",
     "output_type": "stream",
     "text": [
      "[2, 3, 5, 7, 11, 13, 17, 19, 23, 29, 31, 37, 41, 43, 47, 53, 59, 61, 67, 71, 73, 79, 83, 89, 97, 101, 103, 107, 109, 113]\n"
     ]
    }
   ],
   "source": [
    "print(znajdz_liczby_pierwsze(n))"
   ]
  },
  {
   "cell_type": "code",
   "execution_count": null,
   "id": "f84509b1",
   "metadata": {},
   "outputs": [],
   "source": []
  },
  {
   "cell_type": "code",
   "execution_count": null,
   "id": "7cb46776",
   "metadata": {},
   "outputs": [],
   "source": []
  }
 ],
 "metadata": {
  "kernelspec": {
   "display_name": ".venv (3.13.2)",
   "language": "python",
   "name": "python3"
  },
  "language_info": {
   "codemirror_mode": {
    "name": "ipython",
    "version": 3
   },
   "file_extension": ".py",
   "mimetype": "text/x-python",
   "name": "python",
   "nbconvert_exporter": "python",
   "pygments_lexer": "ipython3",
   "version": "3.13.2"
  }
 },
 "nbformat": 4,
 "nbformat_minor": 5
}
